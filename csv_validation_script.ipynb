{
 "cells": [
  {
   "cell_type": "code",
   "execution_count": 1,
   "metadata": {},
   "outputs": [],
   "source": [
    "import pandas as pd"
   ]
  },
  {
   "cell_type": "code",
   "execution_count": 2,
   "metadata": {},
   "outputs": [],
   "source": [
    "#PARAMETROS\n",
    "file_path=\"00048_2025_03_0001 März 2025_v2.csv\"\n",
    "YEAR =2025\n",
    "MONTH= 3\n",
    "COMPANY=48\n"
   ]
  },
  {
   "cell_type": "code",
   "execution_count": 3,
   "metadata": {},
   "outputs": [
    {
     "name": "stderr",
     "output_type": "stream",
     "text": [
      "C:\\Users\\lfarres\\AppData\\Local\\Temp\\ipykernel_1744\\3274690327.py:2: DtypeWarning: Columns (27,29,31) have mixed types. Specify dtype option on import or set low_memory=False.\n",
      "  df = pd.read_csv(file_path, delimiter=';', decimal=',')\n"
     ]
    }
   ],
   "source": [
    "# cargar datos\n",
    "df = pd.read_csv(file_path, delimiter=';', decimal=',')"
   ]
  },
  {
   "cell_type": "code",
   "execution_count": 4,
   "metadata": {},
   "outputs": [
    {
     "name": "stdout",
     "output_type": "stream",
     "text": [
      "<class 'pandas.core.frame.DataFrame'>\n",
      "RangeIndex: 50857 entries, 0 to 50856\n",
      "Data columns (total 54 columns):\n",
      " #   Column                                Non-Null Count  Dtype  \n",
      "---  ------                                --------------  -----  \n",
      " 0   Year                                  50857 non-null  int64  \n",
      " 1   Month                                 50857 non-null  int64  \n",
      " 2   Company Code                          50857 non-null  int64  \n",
      " 3   Item                                  50857 non-null  object \n",
      " 4   Item description                      50857 non-null  object \n",
      " 5   Suprafamily                           50857 non-null  object \n",
      " 6   Family                                50857 non-null  object \n",
      " 7   Subfamily ID                          50857 non-null  object \n",
      " 8   Subfamily Description                 50235 non-null  object \n",
      " 9   Customer Group ID                     50857 non-null  object \n",
      " 10  Customer Group Description            25266 non-null  object \n",
      " 11  Delivery address ID                   50857 non-null  int64  \n",
      " 12  Delivery address description          50857 non-null  object \n",
      " 13  Country ID                            50857 non-null  object \n",
      " 14  County ID (Blank)                     0 non-null      float64\n",
      " 15  County (Blank)                        0 non-null      float64\n",
      " 16  Province ID (Blank)                   0 non-null      float64\n",
      " 17  Province (Blank)                      0 non-null      float64\n",
      " 18  Postal Code                           50820 non-null  object \n",
      " 19  Division                              50857 non-null  object \n",
      " 20  Business Unit ID (EP to provide it)   50857 non-null  object \n",
      " 21  Business Unit Dex (EP to provide it)  50857 non-null  object \n",
      " 22  Sales Zone ID                         0 non-null      float64\n",
      " 23  Sales Zone desc                       0 non-null      float64\n",
      " 24  Promoter ID (Blank)                   50823 non-null  float64\n",
      " 25  Promoter (Blank)                      50823 non-null  object \n",
      " 26  Manufactued Marketed                  50857 non-null  object \n",
      " 27  Supply Center ID                      50857 non-null  object \n",
      " 28  Supply Center Description             50857 non-null  object \n",
      " 29  Plant Supplier ID                     50857 non-null  object \n",
      " 30  Plant Supplier                        50857 non-null  object \n",
      " 31  Line Supplier ID                      50857 non-null  object \n",
      " 32  Line Supplier                         50857 non-null  object \n",
      " 33  Boxes                                 50235 non-null  float64\n",
      " 34  Kgs                                   50235 non-null  float64\n",
      " 35  Lbs                                   50235 non-null  float64\n",
      " 36  Net Net Sales                         50235 non-null  float64\n",
      " 37  Receipts management discounts         622 non-null    float64\n",
      " 38  Off Invoice Rebate                    622 non-null    float64\n",
      " 39  Shared Discounts Accrual              622 non-null    float64\n",
      " 40  Advertising                           622 non-null    float64\n",
      " 41  V1 Credit Notes                       0 non-null      float64\n",
      " 42  Family Discount                       0 non-null      float64\n",
      " 43  Invoice Rebate                        50235 non-null  float64\n",
      " 44  Cash Discounts                        50235 non-null  float64\n",
      " 45  Price List                            0 non-null      float64\n",
      " 46  Cost of Goods Sold                    50235 non-null  float64\n",
      " 47  Total Transportation Cost (C1)        49202 non-null  float64\n",
      " 48  Fixed Distribution Costs              50235 non-null  float64\n",
      " 49  Logistics Commisions                  0 non-null      float64\n",
      " 50  Units                                 0 non-null      float64\n",
      " 51  Final Market                          50857 non-null  object \n",
      " 52  Internal Supply Chain                 0 non-null      float64\n",
      " 53  Transfer Price Margin                 50857 non-null  float64\n",
      "dtypes: float64(27), int64(4), object(23)\n",
      "memory usage: 21.0+ MB\n"
     ]
    }
   ],
   "source": [
    "df.info()"
   ]
  },
  {
   "cell_type": "code",
   "execution_count": 5,
   "metadata": {},
   "outputs": [],
   "source": [
    "# reglas de validación \n",
    "\n",
    "def validate_year(position):\n",
    "    #validar que la columna en la primera posicion (Year) sea un número entero \n",
    "    return df.iloc[:, position].apply(lambda x: isinstance(x,int) and x == YEAR).all()\n",
    "\n",
    "def validate_month(position):\n",
    "    #validar que la columna en la segunda posicion (Month) sea un número entero \n",
    "    return df.iloc[:, position].apply(lambda x: isinstance(x,int) and x == MONTH).all()\n",
    "\n",
    "def validate_company(position):\n",
    "    #validar que la columna en la tercera posicion (Company) sea igual al codigo de la compañía\n",
    "    return df.iloc[:, position].apply(lambda x: x == COMPANY).all()\n",
    "\n",
    "def validate_lenght(position, max_length):\n",
    "    #validar longitud maxima cadena\n",
    "    return df.iloc[:, position].apply(lambda x: len(str(x)) <= max_length).all()\n",
    "\n",
    "def validate_numeric(position):\n",
    "    #validar que una columna tenga solo valores numéricos\n",
    "    return df.iloc[:, position].apply(lambda x: isinstance(x, (int, float))).all()"
   ]
  },
  {
   "cell_type": "code",
   "execution_count": 6,
   "metadata": {},
   "outputs": [],
   "source": [
    "# ejecutar validaciones\n",
    "validations = {\n",
    "    'Year': validate_year(0),\n",
    "    'Month': validate_month(1),\n",
    "    'Company': validate_company(2),\n",
    "    'Item ID': validate_lenght(3,25),\n",
    "    'Item': validate_lenght(4,50),\n",
    "    'Suprafamily ID': validate_lenght(5,3),\n",
    "    'Family ID': validate_lenght(6,3),\n",
    "    'Subfamily ID': validate_lenght(7,6),\n",
    "    'Subfamily': validate_lenght(8,50),\n",
    "    'Customer Group ID': validate_lenght(9,3),\n",
    "    'Customer Group': validate_lenght(10,50),\n",
    "    'Delivery address ID': validate_lenght(11,50),\n",
    "    'Delivery address': validate_lenght(12,50),\n",
    "    'Country ID': validate_lenght(13,50),\n",
    "    'County ID': validate_lenght(14,50),\n",
    "    'County': validate_lenght(15,50),\n",
    "    'Province ID': validate_lenght(16,50),\n",
    "    'Province': validate_lenght(17,50),\n",
    "    'Postal code': validate_lenght(18,50),\n",
    "    'Division ID': validate_lenght(19,50),\n",
    "    'Business unit ID': validate_lenght(20,50),\n",
    "    'Business unit': validate_lenght(21,50),\n",
    "    'Sales Zone ID': validate_lenght(22,50),\n",
    "    'Sales Zone': validate_lenght(23,50),\n",
    "    'Promoter ID': validate_lenght(24,50),\n",
    "    'Promoter': validate_lenght(25,50),\n",
    "    'Manufactured Marketed': validate_lenght(26,50),\n",
    "    'Supply center ID': validate_lenght(27,50),\n",
    "    'Supply center': validate_lenght(28,50),\n",
    "    'Plant supplier ID': validate_lenght(29,50),\n",
    "    'Plant supplier': validate_lenght(30,50),\n",
    "    'Line supplier ID': validate_lenght(31,50),\n",
    "    'Line supplier': validate_lenght(32,50),\n",
    "    'Boxes': validate_numeric(33),\n",
    "    'Kgs': validate_numeric(34),\n",
    "    'Lbs': validate_numeric(35),\n",
    "    'Net net sales': validate_numeric(36),\n",
    "    'Receipts discounts': validate_numeric(37),\n",
    "    'Off invoice discounts': validate_numeric(38),\n",
    "    'Shared discounts': validate_numeric(39),\n",
    "    'Advertising': validate_numeric(40),\n",
    "    'V1 credit notes': validate_numeric(41),\n",
    "    'Family discounts': validate_numeric(42),\n",
    "    'Invoice rebates': validate_numeric(43),\n",
    "    'Cash discounts':validate_numeric(44) ,\n",
    "    'Price list': validate_numeric(45),\n",
    "    'Cost of goods sold': validate_numeric(46),\n",
    "    'Transportation costs': validate_numeric(47),\n",
    "    'Fixed distribution costs': validate_numeric(48),\n",
    "    'Logistic costs': validate_numeric(49),\n",
    "    'Units': validate_numeric(50),\n",
    "    'Final market': validate_lenght(51,3),\n",
    "    'Internal supply chain': validate_numeric(52),\n",
    "    'Transfer price margin':validate_numeric(53)   \n",
    "\n",
    "}"
   ]
  },
  {
   "cell_type": "code",
   "execution_count": 7,
   "metadata": {},
   "outputs": [
    {
     "name": "stdout",
     "output_type": "stream",
     "text": [
      "Correct validation\n"
     ]
    }
   ],
   "source": [
    "# mostrar resultados de validación\n",
    "if all (validations.values()):\n",
    "    print(\"Correct validation\")\n",
    "else:\n",
    "    for column, result in validations.items():\n",
    "        if not result:\n",
    "            print(f\"{column}: ERROR in validation\")"
   ]
  },
  {
   "cell_type": "code",
   "execution_count": 8,
   "metadata": {},
   "outputs": [
    {
     "data": {
      "text/plain": [
       "array(['Goeken backen GmbH & Co. KG 33014 Bad Driburg',\n",
       "       'Muster Gülten Aslan  ',\n",
       "       'PETER BLESSING 78048 Villingen-Schwenningen', ...,\n",
       "       'Amazon Fulfillment Germany GmbH (NON INVENTORY)',\n",
       "       'Amazon Helmstedt GmbH (NON-INVENTORY) 38350 Hel',\n",
       "       'Diakonisches Werk         -1305091- 08340 Schwa'], dtype=object)"
      ]
     },
     "execution_count": 8,
     "metadata": {},
     "output_type": "execute_result"
    }
   ],
   "source": [
    "df.iloc[:,12].unique()"
   ]
  }
 ],
 "metadata": {
  "kernelspec": {
   "display_name": "Python 3",
   "language": "python",
   "name": "python3"
  },
  "language_info": {
   "codemirror_mode": {
    "name": "ipython",
    "version": 3
   },
   "file_extension": ".py",
   "mimetype": "text/x-python",
   "name": "python",
   "nbconvert_exporter": "python",
   "pygments_lexer": "ipython3",
   "version": "3.13.1"
  }
 },
 "nbformat": 4,
 "nbformat_minor": 2
}
